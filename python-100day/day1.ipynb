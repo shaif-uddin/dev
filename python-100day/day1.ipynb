{
 "cells": [
  {
   "cell_type": "markdown",
   "source": [
    "### Day-1-2-exercise\n",
    "---"
   ],
   "metadata": {
    "collapsed": false
   },
   "id": "b462d5fa6aeb3c92"
  },
  {
   "cell_type": "code",
   "outputs": [
    {
     "name": "stdout",
     "output_type": "stream",
     "text": [
      "Day 1 - String Manipulation\n",
      "String Concatenation is done with the \"+\" sign.\n",
      "e.g. print(\"Hello \" + \"world\")\n",
      "New lines can be created with a backslash and n.\n"
     ]
    }
   ],
   "source": [
    "#Fix the code below 👇\n",
    "print(\"Day 1 - String Manipulation\")\n",
    "print('String Concatenation is done with the \"+\" sign.')\n",
    "print('e.g. print(\"Hello \" + \"world\")')\n",
    "print(\"New lines can be created with a backslash and n.\")"
   ],
   "metadata": {
    "collapsed": false,
    "ExecuteTime": {
     "end_time": "2024-07-01T07:18:10.544101800Z",
     "start_time": "2024-07-01T07:18:10.528876200Z"
    }
   },
   "id": "dd677efea34753c2",
   "execution_count": 1
  },
  {
   "cell_type": "code",
   "outputs": [
    {
     "name": "stdout",
     "output_type": "stream",
     "text": [
      "e.g. print(\"Hello\n",
      "Hello Shaif\n"
     ]
    }
   ],
   "source": [
    "# String Modifiers\n",
    "print('e.g. print(\"Hello')\n",
    "print('Hello' + \" \" + 'Shaif')"
   ],
   "metadata": {
    "collapsed": false,
    "ExecuteTime": {
     "end_time": "2024-07-01T12:20:57.368300Z",
     "start_time": "2024-07-01T12:20:57.364295200Z"
    }
   },
   "id": "2ac8e21b45a0bb42",
   "execution_count": 2
  },
  {
   "cell_type": "markdown",
   "source": [],
   "metadata": {
    "collapsed": false
   },
   "id": "d493ad770d016a25"
  },
  {
   "cell_type": "code",
   "outputs": [
    {
     "data": {
      "text/plain": "''"
     },
     "execution_count": 5,
     "metadata": {},
     "output_type": "execute_result"
    }
   ],
   "source": [
    "# The Python Input Function\n",
    "input(\"What is your name?\\n\")"
   ],
   "metadata": {
    "collapsed": false,
    "ExecuteTime": {
     "end_time": "2024-07-01T12:36:45.566462200Z",
     "start_time": "2024-07-01T12:36:43.269011400Z"
    }
   },
   "id": "5aa8de6fdd81742a",
   "execution_count": 5
  },
  {
   "cell_type": "code",
   "outputs": [
    {
     "name": "stdout",
     "output_type": "stream",
     "text": [
      "Hello Shaif!\n"
     ]
    }
   ],
   "source": [
    "# The Python Input Function\n",
    "print('Hello ' + input('What is your name')+\"!\")"
   ],
   "metadata": {
    "collapsed": false,
    "ExecuteTime": {
     "end_time": "2024-07-01T12:38:43.164658600Z",
     "start_time": "2024-07-01T12:38:41.135384300Z"
    }
   },
   "id": "4352ab7cd70066aa",
   "execution_count": 8
  },
  {
   "cell_type": "code",
   "outputs": [
    {
     "data": {
      "text/plain": "4"
     },
     "execution_count": 10,
     "metadata": {},
     "output_type": "execute_result"
    }
   ],
   "source": [
    "len(input())"
   ],
   "metadata": {
    "collapsed": false,
    "ExecuteTime": {
     "end_time": "2024-07-01T13:14:07.135999800Z",
     "start_time": "2024-07-01T13:14:04.324906600Z"
    }
   },
   "id": "5cea247bee1f0660",
   "execution_count": 10
  },
  {
   "cell_type": "code",
   "outputs": [],
   "source": [
    "# Python Variables\n"
   ],
   "metadata": {
    "collapsed": false
   },
   "id": "947ae1fe6fdbfdc8"
  }
 ],
 "metadata": {
  "kernelspec": {
   "display_name": "Python 3",
   "language": "python",
   "name": "python3"
  },
  "language_info": {
   "codemirror_mode": {
    "name": "ipython",
    "version": 2
   },
   "file_extension": ".py",
   "mimetype": "text/x-python",
   "name": "python",
   "nbconvert_exporter": "python",
   "pygments_lexer": "ipython2",
   "version": "2.7.6"
  }
 },
 "nbformat": 4,
 "nbformat_minor": 5
}
