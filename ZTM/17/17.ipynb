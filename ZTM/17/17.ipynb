{
 "cells": [
  {
   "cell_type": "markdown",
   "source": [
    "### Python Image processing\n",
    "---"
   ],
   "metadata": {
    "collapsed": false
   }
  },
  {
   "cell_type": "code",
   "execution_count": 3,
   "outputs": [
    {
     "name": "stdout",
     "output_type": "stream",
     "text": [
      "<PIL.JpegImagePlugin.JpegImageFile image mode=RGB size=640x640 at 0x22857602FF0>\n",
      "RGB\n"
     ]
    }
   ],
   "source": [
    "from PIL import Image\n",
    "img =Image.open('./Pokedex/004 pikachu.jpg')\n",
    "print(img)\n",
    "print(img.mode)"
   ],
   "metadata": {
    "collapsed": false,
    "ExecuteTime": {
     "end_time": "2024-06-25T11:44:13.729207Z",
     "start_time": "2024-06-25T11:44:13.720296900Z"
    }
   }
  },
  {
   "cell_type": "code",
   "execution_count": 5,
   "outputs": [
    {
     "name": "stdout",
     "output_type": "stream",
     "text": [
      "<PIL.Image.Image image mode=RGB size=640x640 at 0x2285729D490>\n"
     ]
    }
   ],
   "source": [
    "from PIL import Image,ImageFilter\n",
    "img =Image.open('./Pokedex/004 pikachu.jpg')\n",
    "filteredImage=img.filter(ImageFilter.BLUR)\n",
    "filteredImage.save('blurred.png','PNG')\n",
    "print(filteredImage)"
   ],
   "metadata": {
    "collapsed": false,
    "ExecuteTime": {
     "end_time": "2024-06-25T11:56:48.403702300Z",
     "start_time": "2024-06-25T11:56:48.329917800Z"
    }
   }
  },
  {
   "cell_type": "code",
   "execution_count": 9,
   "outputs": [],
   "source": [
    "from PIL import Image,ImageFilter\n",
    "img =Image.open('./Pokedex/004 pikachu.jpg')\n",
    "filteredImage=img.convert('L')\n",
    "filteredImage.save('grey.png','PNG')\n",
    "filteredImage=img.convert('P')\n",
    "filteredImage.save('P-ery.png','PNG')\n",
    "filteredImage=img.convert('RGB')\n",
    "filteredImage.save('rgb.png','PNG')"
   ],
   "metadata": {
    "collapsed": false,
    "ExecuteTime": {
     "end_time": "2024-06-25T12:02:47.793679Z",
     "start_time": "2024-06-25T12:02:47.684340600Z"
    }
   }
  },
  {
   "cell_type": "code",
   "execution_count": 11,
   "outputs": [],
   "source": [
    "from PIL import Image,ImageFilter\n",
    "img =Image.open('./Pokedex/004 pikachu.jpg')\n",
    "filteredImage=img.convert('L')\n",
    "filteredImage.show()"
   ],
   "metadata": {
    "collapsed": false,
    "ExecuteTime": {
     "end_time": "2024-06-25T12:04:14.933285700Z",
     "start_time": "2024-06-25T12:04:14.900213900Z"
    }
   }
  },
  {
   "cell_type": "code",
   "execution_count": 17,
   "outputs": [],
   "source": [
    "# Resize Images\n",
    "from PIL import Image,ImageFilter\n",
    "img =Image.open('./Pokedex/004 pikachu.jpg')\n",
    "resize=img.resize((100,100))\n",
    "resize.show()"
   ],
   "metadata": {
    "collapsed": false,
    "ExecuteTime": {
     "end_time": "2024-06-25T12:08:34.390178600Z",
     "start_time": "2024-06-25T12:08:34.366231700Z"
    }
   }
  },
  {
   "cell_type": "code",
   "execution_count": 23,
   "outputs": [],
   "source": [
    "# Crop images\n",
    "from PIL import Image\n",
    "img =Image.open('./Pokedex/004 pikachu.jpg')\n",
    "box=(100,100,400,400)\n",
    "cropImage= img.crop(box)\n",
    "# cropImage.save('crop.png','PNG')\n",
    "cropImage.show()"
   ],
   "metadata": {
    "collapsed": false,
    "ExecuteTime": {
     "end_time": "2024-06-25T12:20:56.060495100Z",
     "start_time": "2024-06-25T12:20:55.979216700Z"
    }
   }
  },
  {
   "cell_type": "code",
   "execution_count": 24,
   "outputs": [],
   "source": [
    "# Reduce size of images keep the aspect ratio\n",
    "from PIL import Image\n",
    "img=Image.open('./Pokedex/006 astro.jpg')\n",
    "img.thumbnail((400,200))\n",
    "img.save('thumbnail.jpg')"
   ],
   "metadata": {
    "collapsed": false,
    "ExecuteTime": {
     "end_time": "2024-06-25T12:38:16.575030200Z",
     "start_time": "2024-06-25T12:38:16.519101400Z"
    }
   }
  },
  {
   "cell_type": "code",
   "execution_count": 36,
   "outputs": [
    {
     "name": "stdout",
     "output_type": "stream",
     "text": [
      "Output Folder output created successflly\n",
      "Processed 004 bulbasaur.jpg\n",
      "Processed 004 charmander.jpg\n",
      "Processed 004 pikachu.jpg\n",
      "Processed 004 squirtle.jpg\n",
      "Processed 006 astro.jpg\n",
      "All file processed\n"
     ]
    }
   ],
   "source": [
    "# Excercise JPG to PNG converter\n",
    "from PIL import Image\n",
    "import os\n",
    "imageFolder='Pokedex'\n",
    "outputFolder='output'\n",
    "# outputFolder=sys.argv[2]\n",
    "try:\n",
    "    os.makedirs(outputFolder,mode=0o777,exist_ok=True)\n",
    "    print(f'Output Folder {outputFolder} created successflly')\n",
    "except OSError as e:\n",
    "    print('Error in creating folder')\n",
    "for filename in os.listdir(imageFolder):\n",
    "    try:\n",
    "        img=Image.open(os.path.join(imageFolder,filename))\n",
    "        img.save(os.path.join(outputFolder,filename),'png')\n",
    "        print(f'Processed {filename}')\n",
    "    except FileNotFoundError:\n",
    "        print(f'File not found: {filename}')\n",
    "print(\"All file processed\")"
   ],
   "metadata": {
    "collapsed": false,
    "ExecuteTime": {
     "end_time": "2024-06-26T10:29:56.358142400Z",
     "start_time": "2024-06-26T10:29:47.960349100Z"
    }
   }
  },
  {
   "cell_type": "code",
   "execution_count": 50,
   "outputs": [
    {
     "name": "stdout",
     "output_type": "stream",
     "text": [
      "-f C:\\Users\\Administrator\\AppData\\Roaming\\jupyter\\runtime\\kernel-0f9f2618-fb5b-43b8-9a5d-445dd1624c37.json\n"
     ]
    }
   ],
   "source": [
    "# Excercise JPG to PNG converter: Another Example\n",
    "from PIL import Image\n",
    "import sys\n",
    "import os\n",
    "img_path=sys.argv[1]\n",
    "new_path=sys.argv[2]\n",
    "print(img_path,new_path)\n",
    "if not os.path.exists(new_path):\n",
    "    os.makedirs(new_path)\n",
    "for filename in os.listdir(img_path):\n",
    "    img=Image.open(f'{img_path}{filename}')\n",
    "    new_file=os.path.split(filename)[0]\n",
    "    img.save(f'{new_path}{new_file}.png','png')\n",
    "    print('All done')"
   ],
   "metadata": {
    "collapsed": false,
    "ExecuteTime": {
     "end_time": "2024-06-26T10:58:20.074319900Z",
     "start_time": "2024-06-26T10:58:20.054300400Z"
    }
   }
  },
  {
   "cell_type": "code",
   "execution_count": 62,
   "outputs": [
    {
     "name": "stdout",
     "output_type": "stream",
     "text": [
      "Successfully created 'tilt.pdf' with the first page rotated.\n"
     ]
    }
   ],
   "source": [
    "import PyPDF2\n",
    "\n",
    "with open('dummy.pdf', 'rb') as file:\n",
    "    reader = PyPDF2.PdfReader(file)\n",
    "\n",
    "    # Create a new PdfWriter object\n",
    "    writer = PyPDF2.PdfWriter()\n",
    "\n",
    "    # Get the first page from the reader\n",
    "    page = reader.pages[0]\n",
    "\n",
    "    # Rotate the page by 180 degrees\n",
    "    page.rotate(180)\n",
    "\n",
    "    # Add the rotated page to the writer\n",
    "    writer.add_page(page)\n",
    "\n",
    "    # Write the modified content to a new PDF file\n",
    "    with open('tilt.pdf', 'wb') as new_file:\n",
    "        writer.write(new_file)\n",
    "\n",
    "print(f\"Successfully created 'tilt.pdf' with the first page rotated.\")\n"
   ],
   "metadata": {
    "collapsed": false,
    "ExecuteTime": {
     "end_time": "2024-06-26T12:02:35.227315700Z",
     "start_time": "2024-06-26T12:02:35.223004900Z"
    }
   }
  }
 ],
 "metadata": {
  "kernelspec": {
   "display_name": "Python 3",
   "language": "python",
   "name": "python3"
  },
  "language_info": {
   "codemirror_mode": {
    "name": "ipython",
    "version": 2
   },
   "file_extension": ".py",
   "mimetype": "text/x-python",
   "name": "python",
   "nbconvert_exporter": "python",
   "pygments_lexer": "ipython2",
   "version": "2.7.6"
  }
 },
 "nbformat": 4,
 "nbformat_minor": 0
}
