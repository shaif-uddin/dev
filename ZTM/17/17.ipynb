{
 "cells": [
  {
   "cell_type": "markdown",
   "source": [
    "### Python Image processing\n",
    "---"
   ],
   "metadata": {
    "collapsed": false
   }
  },
  {
   "cell_type": "code",
   "execution_count": 3,
   "outputs": [
    {
     "name": "stdout",
     "output_type": "stream",
     "text": [
      "<PIL.JpegImagePlugin.JpegImageFile image mode=RGB size=640x640 at 0x22857602FF0>\n",
      "RGB\n"
     ]
    }
   ],
   "source": [
    "from PIL import Image\n",
    "img =Image.open('./Pokedex/004 pikachu.jpg')\n",
    "print(img)\n",
    "print(img.mode)"
   ],
   "metadata": {
    "collapsed": false,
    "ExecuteTime": {
     "end_time": "2024-06-25T11:44:13.729207Z",
     "start_time": "2024-06-25T11:44:13.720296900Z"
    }
   }
  },
  {
   "cell_type": "code",
   "execution_count": 5,
   "outputs": [
    {
     "name": "stdout",
     "output_type": "stream",
     "text": [
      "<PIL.Image.Image image mode=RGB size=640x640 at 0x2285729D490>\n"
     ]
    }
   ],
   "source": [
    "from PIL import Image,ImageFilter\n",
    "img =Image.open('./Pokedex/004 pikachu.jpg')\n",
    "filteredImage=img.filter(ImageFilter.BLUR)\n",
    "filteredImage.save('blurred.png','PNG')\n",
    "print(filteredImage)"
   ],
   "metadata": {
    "collapsed": false,
    "ExecuteTime": {
     "end_time": "2024-06-25T11:56:48.403702300Z",
     "start_time": "2024-06-25T11:56:48.329917800Z"
    }
   }
  },
  {
   "cell_type": "code",
   "execution_count": 9,
   "outputs": [],
   "source": [
    "from PIL import Image,ImageFilter\n",
    "img =Image.open('./Pokedex/004 pikachu.jpg')\n",
    "filteredImage=img.convert('L')\n",
    "filteredImage.save('grey.png','PNG')\n",
    "filteredImage=img.convert('P')\n",
    "filteredImage.save('P-ery.png','PNG')\n",
    "filteredImage=img.convert('RGB')\n",
    "filteredImage.save('rgb.png','PNG')"
   ],
   "metadata": {
    "collapsed": false,
    "ExecuteTime": {
     "end_time": "2024-06-25T12:02:47.793679Z",
     "start_time": "2024-06-25T12:02:47.684340600Z"
    }
   }
  },
  {
   "cell_type": "code",
   "execution_count": 11,
   "outputs": [],
   "source": [
    "from PIL import Image,ImageFilter\n",
    "img =Image.open('./Pokedex/004 pikachu.jpg')\n",
    "filteredImage=img.convert('L')\n",
    "filteredImage.show()"
   ],
   "metadata": {
    "collapsed": false,
    "ExecuteTime": {
     "end_time": "2024-06-25T12:04:14.933285700Z",
     "start_time": "2024-06-25T12:04:14.900213900Z"
    }
   }
  },
  {
   "cell_type": "code",
   "execution_count": 17,
   "outputs": [],
   "source": [
    "# Resize Images\n",
    "from PIL import Image,ImageFilter\n",
    "img =Image.open('./Pokedex/004 pikachu.jpg')\n",
    "resize=img.resize((100,100))\n",
    "resize.show()"
   ],
   "metadata": {
    "collapsed": false,
    "ExecuteTime": {
     "end_time": "2024-06-25T12:08:34.390178600Z",
     "start_time": "2024-06-25T12:08:34.366231700Z"
    }
   }
  },
  {
   "cell_type": "code",
   "execution_count": 23,
   "outputs": [],
   "source": [
    "# Crop images\n",
    "from PIL import Image\n",
    "img =Image.open('./Pokedex/004 pikachu.jpg')\n",
    "box=(100,100,400,400)\n",
    "cropImage= img.crop(box)\n",
    "# cropImage.save('crop.png','PNG')\n",
    "cropImage.show()"
   ],
   "metadata": {
    "collapsed": false,
    "ExecuteTime": {
     "end_time": "2024-06-25T12:20:56.060495100Z",
     "start_time": "2024-06-25T12:20:55.979216700Z"
    }
   }
  },
  {
   "cell_type": "code",
   "execution_count": 24,
   "outputs": [],
   "source": [
    "# Reduce size of images keep the aspect ratio\n",
    "from PIL import Image\n",
    "img=Image.open('./Pokedex/006 astro.jpg')\n",
    "img.thumbnail((400,200))\n",
    "img.save('thumbnail.jpg')"
   ],
   "metadata": {
    "collapsed": false,
    "ExecuteTime": {
     "end_time": "2024-06-25T12:38:16.575030200Z",
     "start_time": "2024-06-25T12:38:16.519101400Z"
    }
   }
  },
  {
   "cell_type": "code",
   "execution_count": null,
   "outputs": [],
   "source": [
    "# Excercise JPG to PNG converter\n",
    "from PIL import Image\n",
    "img =Image.open('./Pokedex/004 pikachu.jpg')"
   ],
   "metadata": {
    "collapsed": false
   }
  }
 ],
 "metadata": {
  "kernelspec": {
   "display_name": "Python 3",
   "language": "python",
   "name": "python3"
  },
  "language_info": {
   "codemirror_mode": {
    "name": "ipython",
    "version": 2
   },
   "file_extension": ".py",
   "mimetype": "text/x-python",
   "name": "python",
   "nbconvert_exporter": "python",
   "pygments_lexer": "ipython2",
   "version": "2.7.6"
  }
 },
 "nbformat": 4,
 "nbformat_minor": 0
}
