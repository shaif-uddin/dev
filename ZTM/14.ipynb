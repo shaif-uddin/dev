{
 "cells": [
  {
   "cell_type": "markdown",
   "source": [
    "#### 14 - Regular Expressions\n",
    "---"
   ],
   "metadata": {
    "collapsed": false
   }
  },
  {
   "cell_type": "code",
   "execution_count": 9,
   "outputs": [
    {
     "name": "stdout",
     "output_type": "stream",
     "text": [
      "(7, 11)\n",
      "11\n",
      "this\n",
      "7\n"
     ]
    }
   ],
   "source": [
    "import re\n",
    "string='please this give me this quickly'\n",
    "test=re.search('this',string)\n",
    "print(test.span())\n",
    "print(test.end())\n",
    "print(test.group())\n",
    "print(test.start())\n"
   ],
   "metadata": {
    "collapsed": false,
    "ExecuteTime": {
     "end_time": "2024-06-24T11:56:39.703189300Z",
     "start_time": "2024-06-24T11:56:39.696608600Z"
    }
   }
  },
  {
   "cell_type": "code",
   "execution_count": 14,
   "outputs": [
    {
     "name": "stdout",
     "output_type": "stream",
     "text": [
      "(7, 11)\n"
     ]
    }
   ],
   "source": [
    "import re\n",
    "pattern=re.compile('this')\n",
    "string='please this give me this quickly'\n",
    "test=pattern.search(string)\n",
    "print(test.span())\n",
    "print(test)"
   ],
   "metadata": {
    "collapsed": false,
    "ExecuteTime": {
     "end_time": "2024-06-24T12:01:58.967484500Z",
     "start_time": "2024-06-24T12:01:58.961104400Z"
    }
   }
  }
 ],
 "metadata": {
  "kernelspec": {
   "display_name": "Python 3",
   "language": "python",
   "name": "python3"
  },
  "language_info": {
   "codemirror_mode": {
    "name": "ipython",
    "version": 2
   },
   "file_extension": ".py",
   "mimetype": "text/x-python",
   "name": "python",
   "nbconvert_exporter": "python",
   "pygments_lexer": "ipython2",
   "version": "2.7.6"
  }
 },
 "nbformat": 4,
 "nbformat_minor": 0
}
