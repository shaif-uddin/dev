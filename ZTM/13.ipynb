{
 "cells": [
  {
   "cell_type": "markdown",
   "source": [
    "### Module 3\n",
    "---"
   ],
   "metadata": {
    "collapsed": false
   }
  },
  {
   "cell_type": "code",
   "execution_count": 8,
   "metadata": {
    "collapsed": true,
    "ExecuteTime": {
     "end_time": "2024-06-23T05:16:34.602746100Z",
     "start_time": "2024-06-23T05:16:34.599558900Z"
    }
   },
   "outputs": [
    {
     "name": "stdout",
     "output_type": "stream",
     "text": [
      "Hello Python\n",
      ":)\n",
      "My name Anthony Golsalvez\n",
      "Hello Python\n",
      ":)\n",
      "My name Anthony Golsalvez\n"
     ]
    }
   ],
   "source": [
    "myFile=open('hello.txt')\n",
    "print(myFile.read())\n",
    "myFile.seek(0)\n",
    "print(myFile.read())\n"
   ]
  },
  {
   "cell_type": "code",
   "execution_count": 9,
   "outputs": [
    {
     "name": "stdout",
     "output_type": "stream",
     "text": [
      "Hello Python\n",
      "\n"
     ]
    }
   ],
   "source": [
    "myFile=open('hello.txt')\n",
    "print(myFile.readline())\n"
   ],
   "metadata": {
    "collapsed": false,
    "ExecuteTime": {
     "end_time": "2024-06-23T05:16:45.484053900Z",
     "start_time": "2024-06-23T05:16:45.473998100Z"
    }
   }
  },
  {
   "cell_type": "code",
   "execution_count": 11,
   "outputs": [
    {
     "name": "stdout",
     "output_type": "stream",
     "text": [
      "['Hello Python\\n', ':)\\n', 'My name Anthony Golsalvez']\n"
     ]
    }
   ],
   "source": [
    "myFile=open('hello.txt')\n",
    "print(myFile.readlines())\n",
    "myFile.close()"
   ],
   "metadata": {
    "collapsed": false,
    "ExecuteTime": {
     "end_time": "2024-06-23T05:18:47.848176200Z",
     "start_time": "2024-06-23T05:18:47.843226300Z"
    }
   }
  },
  {
   "cell_type": "markdown",
   "source": [
    "### 002 Read, Write, Append\n",
    "---"
   ],
   "metadata": {
    "collapsed": false
   }
  },
  {
   "cell_type": "code",
   "execution_count": 14,
   "outputs": [
    {
     "name": "stdout",
     "output_type": "stream",
     "text": [
      "['Hello Python\\n', ':)\\n', 'My name Anthony Golsalvez']\n"
     ]
    }
   ],
   "source": [
    "with open('hello.txt') as myFile:\n",
    "    print(myFile.readlines())"
   ],
   "metadata": {
    "collapsed": false,
    "ExecuteTime": {
     "end_time": "2024-06-23T05:32:38.720504700Z",
     "start_time": "2024-06-23T05:32:38.700451100Z"
    }
   }
  },
  {
   "cell_type": "code",
   "execution_count": 15,
   "outputs": [
    {
     "name": "stdout",
     "output_type": "stream",
     "text": [
      "['Hello Python\\n', ':)\\n', 'My name Anthony Golsalvez']\n"
     ]
    }
   ],
   "source": [
    "with open('hello.txt',mode='r+') as myFile:\n",
    "    print(myFile.readlines())"
   ],
   "metadata": {
    "collapsed": false,
    "ExecuteTime": {
     "end_time": "2024-06-23T05:36:23.124745700Z",
     "start_time": "2024-06-23T05:36:23.119735900Z"
    }
   }
  },
  {
   "cell_type": "code",
   "execution_count": 24,
   "outputs": [
    {
     "name": "stdout",
     "output_type": "stream",
     "text": [
      "2\n"
     ]
    }
   ],
   "source": [
    "with open('hello.txt',mode='a') as myFile:\n",
    "    text=myFile.write('\\nHello Welcome')\n",
    "    text=myFile.write(':)')\n",
    "    print(text)"
   ],
   "metadata": {
    "collapsed": false,
    "ExecuteTime": {
     "end_time": "2024-06-23T05:49:35.954127300Z",
     "start_time": "2024-06-23T05:49:35.946850800Z"
    }
   }
  },
  {
   "cell_type": "code",
   "execution_count": 25,
   "outputs": [
    {
     "name": "stdout",
     "output_type": "stream",
     "text": [
      "2\n"
     ]
    }
   ],
   "source": [
    "with open('sad.txt',mode='w') as myFile:\n",
    "    text=myFile.write('\\nHello Welcome')\n",
    "    text=myFile.write(':)')\n",
    "    print(text)"
   ],
   "metadata": {
    "collapsed": false,
    "ExecuteTime": {
     "end_time": "2024-06-23T05:52:49.466034100Z",
     "start_time": "2024-06-23T05:52:49.456505200Z"
    }
   }
  },
  {
   "cell_type": "code",
   "execution_count": null,
   "outputs": [],
   "source": [],
   "metadata": {
    "collapsed": false
   }
  }
 ],
 "metadata": {
  "kernelspec": {
   "display_name": "Python 3",
   "language": "python",
   "name": "python3"
  },
  "language_info": {
   "codemirror_mode": {
    "name": "ipython",
    "version": 2
   },
   "file_extension": ".py",
   "mimetype": "text/x-python",
   "name": "python",
   "nbconvert_exporter": "python",
   "pygments_lexer": "ipython2",
   "version": "2.7.6"
  }
 },
 "nbformat": 4,
 "nbformat_minor": 0
}
